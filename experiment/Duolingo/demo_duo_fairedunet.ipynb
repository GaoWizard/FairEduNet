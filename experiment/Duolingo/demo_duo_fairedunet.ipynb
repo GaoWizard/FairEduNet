{
 "cells": [
  {
   "cell_type": "code",
   "execution_count": 1,
   "metadata": {
    "ExecuteTime": {
     "end_time": "2024-01-04T17:24:54.696095Z",
     "start_time": "2024-01-04T17:24:49.505369300Z"
    }
   },
   "outputs": [
    {
     "name": "stderr",
     "output_type": "stream",
     "text": [
      "Using `tqdm.autonotebook.tqdm` in notebook mode. Use `tqdm.tqdm` instead to force console mode (e.g. in jupyter console)\n",
      "We've integrated functorch into PyTorch. As the final step of the integration, `functorch.vmap` is deprecated as of PyTorch 2.0 and will be deleted in a future version of PyTorch >= 2.3. Please use `torch.vmap` instead; see the PyTorch 2.0 release notes and/or the `torch.func` migration guide for more details https://pytorch.org/docs/main/func.migrating.html\n",
      "We've integrated functorch into PyTorch. As the final step of the integration, `functorch.vmap` is deprecated as of PyTorch 2.0 and will be deleted in a future version of PyTorch >= 2.3. Please use `torch.vmap` instead; see the PyTorch 2.0 release notes and/or the `torch.func` migration guide for more details https://pytorch.org/docs/main/func.migrating.html\n"
     ]
    }
   ],
   "source": [
    "%matplotlib inline\n",
    "\n",
    "# 加载需要的库\n",
    "import sys\n",
    "sys.path.append(\"../\")\n",
    "from aif360.datasets import BinaryLabelDataset\n",
    "from aif360.datasets import AdultDataset, GermanDataset, CompasDataset\n",
    "from aif360.datasets import DuolingoDataset\n",
    "\n",
    "from aif360.datasets import StuperDataset\n",
    "from aif360.metrics import BinaryLabelDatasetMetric\n",
    "from aif360.metrics import ClassificationMetric\n",
    "from aif360.metrics.utils import compute_boolean_conditioning_vector\n",
    "\n",
    "from aif360.algorithms.preprocessing.optim_preproc_helpers.data_preproc_functions import load_preproc_data_adult, load_preproc_data_compas, load_preproc_data_german\n",
    "from aif360.algorithms.preprocessing.optim_preproc_helpers.data_preproc_functions import  load_preproc_data_stuper\n",
    "from aif360.algorithms.preprocessing.optim_preproc_helpers.data_preproc_functions import load_preproc_data_duolingo\n",
    "\n",
    "from aif360.algorithms.inprocessing.adversarial_debiasing import FairEduNet\n",
    "\n",
    "from sklearn.linear_model import LogisticRegression\n",
    "from sklearn.preprocessing import StandardScaler, MaxAbsScaler\n",
    "from sklearn.metrics import accuracy_score\n",
    "\n",
    "from IPython.display import Markdown, display\n",
    "import matplotlib.pyplot as plt\n",
    "\n",
    "import tensorflow.compat.v1 as tf\n",
    "tf.disable_eager_execution()"
   ]
  },
  {
   "cell_type": "markdown",
   "metadata": {},
   "source": [
    "#### 读取数据集和设置选项"
   ]
  },
  {
   "cell_type": "code",
   "execution_count": 2,
   "metadata": {
    "ExecuteTime": {
     "end_time": "2024-01-04T17:24:54.907520200Z",
     "start_time": "2024-01-04T17:24:54.691094300Z"
    }
   },
   "outputs": [],
   "source": [
    "# 获取数据集，进行训练集和测试集的划分\n",
    "dataset_orig = load_preproc_data_duolingo()\n",
    "\n",
    "privileged_groups = [{'ui_binary': 1}]\n",
    "unprivileged_groups = [{'ui_binary': 0}]\n",
    "\n",
    "dataset_orig_train, dataset_orig_test = dataset_orig.split([0.7], shuffle=True)"
   ]
  },
  {
   "cell_type": "code",
   "execution_count": 3,
   "metadata": {
    "ExecuteTime": {
     "end_time": "2024-01-04T17:24:54.919433300Z",
     "start_time": "2024-01-04T17:24:54.908520Z"
    },
    "scrolled": true
   },
   "outputs": [
    {
     "data": {
      "text/markdown": [
       "#### Training Dataset shape"
      ],
      "text/plain": [
       "<IPython.core.display.Markdown object>"
      ]
     },
     "metadata": {},
     "output_type": "display_data"
    },
    {
     "name": "stdout",
     "output_type": "stream",
     "text": [
      "(734002, 7)\n"
     ]
    },
    {
     "data": {
      "text/markdown": [
       "#### Favorable and unfavorable labels"
      ],
      "text/plain": [
       "<IPython.core.display.Markdown object>"
      ]
     },
     "metadata": {},
     "output_type": "display_data"
    },
    {
     "name": "stdout",
     "output_type": "stream",
     "text": [
      "1.0 0.0\n"
     ]
    },
    {
     "data": {
      "text/markdown": [
       "#### Protected attribute names"
      ],
      "text/plain": [
       "<IPython.core.display.Markdown object>"
      ]
     },
     "metadata": {},
     "output_type": "display_data"
    },
    {
     "name": "stdout",
     "output_type": "stream",
     "text": [
      "['ui_binary', 'learning_binary']\n"
     ]
    },
    {
     "data": {
      "text/markdown": [
       "#### Privileged and unprivileged protected attribute values"
      ],
      "text/plain": [
       "<IPython.core.display.Markdown object>"
      ]
     },
     "metadata": {},
     "output_type": "display_data"
    },
    {
     "name": "stdout",
     "output_type": "stream",
     "text": [
      "[array([1.]), array([1.])] [array([0.]), array([0.])]\n"
     ]
    },
    {
     "data": {
      "text/markdown": [
       "#### Dataset feature names"
      ],
      "text/plain": [
       "<IPython.core.display.Markdown object>"
      ]
     },
     "metadata": {},
     "output_type": "display_data"
    },
    {
     "name": "stdout",
     "output_type": "stream",
     "text": [
      "['ui_binary', 'learning_binary', 'delta', 'history_seen', 'history_correct', 'session_seen', 'is_workday=1']\n"
     ]
    }
   ],
   "source": [
    "# 打印出数据集的一些特征\n",
    "display(Markdown(\"#### Training Dataset shape\"))\n",
    "print(dataset_orig_train.features.shape)\n",
    "display(Markdown(\"#### Favorable and unfavorable labels\"))\n",
    "print(dataset_orig_train.favorable_label, dataset_orig_train.unfavorable_label)\n",
    "display(Markdown(\"#### Protected attribute names\"))\n",
    "print(dataset_orig_train.protected_attribute_names)\n",
    "display(Markdown(\"#### Privileged and unprivileged protected attribute values\"))\n",
    "print(dataset_orig_train.privileged_protected_attributes, \n",
    "      dataset_orig_train.unprivileged_protected_attributes)\n",
    "display(Markdown(\"#### Dataset feature names\"))\n",
    "print(dataset_orig_train.feature_names)"
   ]
  },
  {
   "cell_type": "markdown",
   "metadata": {},
   "source": [
    "#### 原始训练数据的指标"
   ]
  },
  {
   "cell_type": "code",
   "execution_count": 4,
   "metadata": {
    "ExecuteTime": {
     "end_time": "2024-01-04T17:24:54.925854Z",
     "start_time": "2024-01-04T17:24:54.919433300Z"
    }
   },
   "outputs": [
    {
     "data": {
      "text/markdown": [
       "#### Original training dataset"
      ],
      "text/plain": [
       "<IPython.core.display.Markdown object>"
      ]
     },
     "metadata": {},
     "output_type": "display_data"
    },
    {
     "name": "stdout",
     "output_type": "stream",
     "text": [
      "Train set: Difference in mean outcomes between unprivileged and privileged groups = -0.001677\n",
      "Test set: Difference in mean outcomes between unprivileged and privileged groups = -0.001672\n"
     ]
    }
   ],
   "source": [
    "# 原始数据集的指标\n",
    "metric_orig_train = BinaryLabelDatasetMetric(dataset_orig_train, \n",
    "                                             unprivileged_groups=unprivileged_groups,\n",
    "                                             privileged_groups=privileged_groups)\n",
    "display(Markdown(\"#### Original training dataset\"))\n",
    "print(\"Train set: Difference in mean outcomes between unprivileged and privileged groups = %f\" % metric_orig_train.mean_difference())\n",
    "metric_orig_test = BinaryLabelDatasetMetric(dataset_orig_test, \n",
    "                                             unprivileged_groups=unprivileged_groups,\n",
    "                                             privileged_groups=privileged_groups)\n",
    "print(\"Test set: Difference in mean outcomes between unprivileged and privileged groups = %f\" % metric_orig_test.mean_difference())"
   ]
  },
  {
   "cell_type": "code",
   "execution_count": 5,
   "metadata": {
    "ExecuteTime": {
     "end_time": "2024-01-04T17:24:55.013385Z",
     "start_time": "2024-01-04T17:24:54.927854300Z"
    }
   },
   "outputs": [
    {
     "data": {
      "text/markdown": [
       "#### Scaled dataset - Verify that the scaling does not affect the group label statistics"
      ],
      "text/plain": [
       "<IPython.core.display.Markdown object>"
      ]
     },
     "metadata": {},
     "output_type": "display_data"
    },
    {
     "name": "stdout",
     "output_type": "stream",
     "text": [
      "Train set: Difference in mean outcomes between unprivileged and privileged groups = -0.001677\n",
      "Test set: Difference in mean outcomes between unprivileged and privileged groups = -0.001672\n"
     ]
    }
   ],
   "source": [
    "min_max_scaler = MaxAbsScaler()\n",
    "dataset_orig_train.features = min_max_scaler.fit_transform(dataset_orig_train.features)\n",
    "dataset_orig_test.features = min_max_scaler.transform(dataset_orig_test.features)\n",
    "metric_scaled_train = BinaryLabelDatasetMetric(dataset_orig_train, \n",
    "                             unprivileged_groups=unprivileged_groups,\n",
    "                             privileged_groups=privileged_groups)\n",
    "# 缩放数据集 - 验证缩放是否不会影响组标签统计数据\n",
    "display(Markdown(\"#### Scaled dataset - Verify that the scaling does not affect the group label statistics\"))\n",
    "print(\"Train set: Difference in mean outcomes between unprivileged and privileged groups = %f\" % metric_scaled_train.mean_difference())\n",
    "metric_scaled_test = BinaryLabelDatasetMetric(dataset_orig_test, \n",
    "                             unprivileged_groups=unprivileged_groups,\n",
    "                             privileged_groups=privileged_groups)\n",
    "print(\"Test set: Difference in mean outcomes between unprivileged and privileged groups = %f\" % metric_scaled_test.mean_difference())\n"
   ]
  },
  {
   "cell_type": "markdown",
   "metadata": {},
   "source": [
    "### 学习计划分类器，无需去偏见"
   ]
  },
  {
   "cell_type": "code",
   "execution_count": 6,
   "metadata": {
    "ExecuteTime": {
     "end_time": "2024-01-04T17:24:55.013385Z",
     "start_time": "2024-01-04T17:24:54.944990300Z"
    }
   },
   "outputs": [],
   "source": [
    "# Load post-processing algorithm that equalizes the odds\n",
    "# Learn parameters with debias set to False\n",
    "sess = tf.Session()\n",
    "plain_model = AdversarialDebiasing(privileged_groups = privileged_groups,\n",
    "                          unprivileged_groups = unprivileged_groups,\n",
    "                          scope_name='plain_classifier',\n",
    "                          debias=False,\n",
    "                          sess=sess)"
   ]
  },
  {
   "cell_type": "code",
   "execution_count": 7,
   "metadata": {
    "ExecuteTime": {
     "end_time": "2024-01-04T17:25:08.200947700Z",
     "start_time": "2024-01-04T17:24:54.950385600Z"
    },
    "scrolled": true
   },
   "outputs": [
    {
     "name": "stdout",
     "output_type": "stream",
     "text": [
      "epoch 0; iter: 5733; batch classifier mean loss: 0.388449\n",
      "epoch 1; iter: 5733; batch classifier mean loss: 0.384574\n",
      "epoch 2; iter: 5733; batch classifier mean loss: 0.383689\n",
      "epoch 3; iter: 5733; batch classifier mean loss: 0.383296\n",
      "epoch 4; iter: 5733; batch classifier mean loss: 0.383145\n",
      "epoch 5; iter: 5733; batch classifier mean loss: 0.382938\n",
      "epoch 6; iter: 5733; batch classifier mean loss: 0.382795\n",
      "epoch 7; iter: 5733; batch classifier mean loss: 0.382675\n",
      "epoch 8; iter: 5733; batch classifier mean loss: 0.382558\n",
      "epoch 9; iter: 5733; batch classifier mean loss: 0.382450\n",
      "epoch 10; iter: 5733; batch classifier mean loss: 0.382368\n",
      "epoch 11; iter: 5733; batch classifier mean loss: 0.382329\n",
      "epoch 12; iter: 5733; batch classifier mean loss: 0.382280\n",
      "epoch 13; iter: 5733; batch classifier mean loss: 0.382228\n",
      "epoch 14; iter: 5733; batch classifier mean loss: 0.382183\n",
      "epoch 15; iter: 5733; batch classifier mean loss: 0.382140\n",
      "epoch 16; iter: 5733; batch classifier mean loss: 0.382138\n",
      "epoch 17; iter: 5733; batch classifier mean loss: 0.382115\n",
      "epoch 18; iter: 5733; batch classifier mean loss: 0.382107\n",
      "epoch 19; iter: 5733; batch classifier mean loss: 0.382088\n",
      "epoch 20; iter: 5733; batch classifier mean loss: 0.382078\n",
      "epoch 21; iter: 5733; batch classifier mean loss: 0.382073\n",
      "epoch 22; iter: 5733; batch classifier mean loss: 0.382054\n",
      "epoch 23; iter: 5733; batch classifier mean loss: 0.382057\n",
      "epoch 24; iter: 5733; batch classifier mean loss: 0.382059\n",
      "epoch 25; iter: 5733; batch classifier mean loss: 0.382044\n",
      "epoch 26; iter: 5733; batch classifier mean loss: 0.382045\n",
      "epoch 27; iter: 5733; batch classifier mean loss: 0.382043\n",
      "epoch 28; iter: 5733; batch classifier mean loss: 0.382038\n",
      "epoch 29; iter: 5733; batch classifier mean loss: 0.382046\n",
      "epoch 30; iter: 5733; batch classifier mean loss: 0.382045\n",
      "epoch 31; iter: 5733; batch classifier mean loss: 0.382037\n",
      "epoch 32; iter: 5733; batch classifier mean loss: 0.382044\n",
      "epoch 33; iter: 5733; batch classifier mean loss: 0.382042\n",
      "epoch 34; iter: 5733; batch classifier mean loss: 0.382036\n",
      "epoch 35; iter: 5733; batch classifier mean loss: 0.382028\n",
      "epoch 36; iter: 5733; batch classifier mean loss: 0.382031\n",
      "epoch 37; iter: 5733; batch classifier mean loss: 0.382041\n",
      "epoch 38; iter: 5733; batch classifier mean loss: 0.382039\n",
      "epoch 39; iter: 5733; batch classifier mean loss: 0.382032\n",
      "epoch 40; iter: 5733; batch classifier mean loss: 0.382036\n",
      "epoch 41; iter: 5733; batch classifier mean loss: 0.382028\n",
      "epoch 42; iter: 5733; batch classifier mean loss: 0.382031\n",
      "epoch 43; iter: 5733; batch classifier mean loss: 0.382027\n",
      "epoch 44; iter: 5733; batch classifier mean loss: 0.382028\n",
      "epoch 45; iter: 5733; batch classifier mean loss: 0.382022\n",
      "epoch 46; iter: 5733; batch classifier mean loss: 0.382041\n",
      "epoch 47; iter: 5733; batch classifier mean loss: 0.382038\n",
      "epoch 48; iter: 5733; batch classifier mean loss: 0.382042\n",
      "epoch 49; iter: 5733; batch classifier mean loss: 0.382035\n"
     ]
    },
    {
     "data": {
      "text/plain": [
       "<aif360.algorithms.inprocessing.adversarial_debiasing.AdversarialDebiasing at 0x87c25e10>"
      ]
     },
     "execution_count": 7,
     "metadata": {},
     "output_type": "execute_result"
    }
   ],
   "source": [
    "plain_model.fit(dataset_orig_train)"
   ]
  },
  {
   "cell_type": "code",
   "execution_count": 8,
   "metadata": {
    "ExecuteTime": {
     "end_time": "2024-01-04T17:25:08.451862600Z",
     "start_time": "2024-01-04T17:25:08.202968200Z"
    }
   },
   "outputs": [],
   "source": [
    "# 将朴素模型应用于测试数据\n",
    "dataset_nodebiasing_train = plain_model.predict(dataset_orig_train)\n",
    "dataset_nodebiasing_test = plain_model.predict(dataset_orig_test)"
   ]
  },
  {
   "cell_type": "code",
   "execution_count": 9,
   "metadata": {
    "ExecuteTime": {
     "end_time": "2024-01-04T17:25:08.467822600Z",
     "start_time": "2024-01-04T17:25:08.451862600Z"
    }
   },
   "outputs": [
    {
     "data": {
      "text/markdown": [
       "#### Plain model - without debiasing - dataset metrics"
      ],
      "text/plain": [
       "<IPython.core.display.Markdown object>"
      ]
     },
     "metadata": {},
     "output_type": "display_data"
    },
    {
     "name": "stdout",
     "output_type": "stream",
     "text": [
      "Train set: Difference in mean outcomes between unprivileged and privileged groups = 0.000165\n",
      "Test set: Difference in mean outcomes between unprivileged and privileged groups = 0.000228\n"
     ]
    },
    {
     "data": {
      "text/markdown": [
       "#### Plain model - without debiasing - classification metrics"
      ],
      "text/plain": [
       "<IPython.core.display.Markdown object>"
      ]
     },
     "metadata": {},
     "output_type": "display_data"
    },
    {
     "name": "stdout",
     "output_type": "stream",
     "text": [
      "Test set: Classification accuracy = 0.866413\n",
      "Test set: Statistical parity difference = 0.000228\n",
      "Test set: Equalized Odds difference = 0.000036\n",
      "Test set: Equal opportunity difference = 0.000000\n",
      "Test set: Disparate impact = 1.000228\n"
     ]
    }
   ],
   "source": [
    "# 朴素模型数据集的度量指标（未去偏见）\n",
    "display(Markdown(\"#### Plain model - without debiasing - dataset metrics\"))\n",
    "metric_dataset_nodebiasing_train = BinaryLabelDatasetMetric(dataset_nodebiasing_train, \n",
    "                                             unprivileged_groups=unprivileged_groups,\n",
    "                                             privileged_groups=privileged_groups)\n",
    "\n",
    "print(\"Train set: Difference in mean outcomes between unprivileged and privileged groups = %f\" % metric_dataset_nodebiasing_train.mean_difference())\n",
    "\n",
    "metric_dataset_nodebiasing_test = BinaryLabelDatasetMetric(dataset_nodebiasing_test, \n",
    "                                             unprivileged_groups=unprivileged_groups,\n",
    "                                             privileged_groups=privileged_groups)\n",
    "\n",
    "print(\"Test set: Difference in mean outcomes between unprivileged and privileged groups = %f\" % metric_dataset_nodebiasing_test.mean_difference())\n",
    "\n",
    "display(Markdown(\"#### Plain model - without debiasing - classification metrics\"))\n",
    "classified_metric_nodebiasing_test = ClassificationMetric(dataset_orig_test, \n",
    "                                                 dataset_nodebiasing_test,\n",
    "                                                 unprivileged_groups=unprivileged_groups,\n",
    "                                                 privileged_groups=privileged_groups)\n",
    "print(\"Test set: Classification accuracy = %f\" % classified_metric_nodebiasing_test.accuracy())\n",
    "TPR = classified_metric_nodebiasing_test.true_positive_rate()\n",
    "TNR = classified_metric_nodebiasing_test.true_negative_rate()\n",
    "bal_acc_nodebiasing_test = 0.5*(TPR+TNR)\n",
    "\n",
    "\n",
    "print(\"Test set: Statistical parity difference = %f\" % classified_metric_nodebiasing_test.statistical_parity_difference())\n",
    "print(\"Test set: Equalized Odds difference = %f\" % classified_metric_nodebiasing_test.equalized_odds_difference())\n",
    "print(\"Test set: Equal opportunity difference = %f\" % classified_metric_nodebiasing_test.equal_opportunity_difference())\n",
    "print(\"Test set: Disparate impact = %f\" % classified_metric_nodebiasing_test.disparate_impact())\n"
   ]
  },
  {
   "cell_type": "markdown",
   "metadata": {},
   "source": [
    "### 应用基于Adversarial Debiasing的处理中算法"
   ]
  },
  {
   "cell_type": "code",
   "execution_count": 10,
   "metadata": {
    "ExecuteTime": {
     "end_time": "2024-01-04T17:25:08.477834700Z",
     "start_time": "2024-01-04T17:25:08.466807400Z"
    }
   },
   "outputs": [],
   "source": [
    "sess.close()\n",
    "tf.reset_default_graph()\n",
    "sess = tf.Session()"
   ]
  },
  {
   "cell_type": "code",
   "execution_count": 11,
   "metadata": {
    "ExecuteTime": {
     "end_time": "2024-01-04T17:25:08.478856700Z",
     "start_time": "2024-01-04T17:25:08.471986Z"
    }
   },
   "outputs": [],
   "source": [
    "# Learn parameters with debias set to True\n",
    "# 在去偏见设置为True时学习参数\n",
    "debiased_model = AdversarialDebiasing(privileged_groups = privileged_groups,\n",
    "                          unprivileged_groups = unprivileged_groups,\n",
    "                          scope_name='debiased_classifier',\n",
    "                          debias=True,\n",
    "                          sess=sess)"
   ]
  },
  {
   "cell_type": "code",
   "execution_count": 12,
   "metadata": {
    "ExecuteTime": {
     "end_time": "2024-01-04T17:25:25.197322300Z",
     "start_time": "2024-01-04T17:25:08.477834700Z"
    },
    "scrolled": false
   },
   "outputs": [
    {
     "name": "stdout",
     "output_type": "stream",
     "text": [
      "epoch 0; iter: 5733; batch classifier mean loss: 0.389401; batch adversarial mean loss: 0.676384\n",
      "epoch 1; iter: 5733; batch classifier mean loss: 0.420244; batch adversarial mean loss: 0.675311\n",
      "epoch 2; iter: 5733; batch classifier mean loss: 0.406580; batch adversarial mean loss: 0.675350\n",
      "epoch 3; iter: 5733; batch classifier mean loss: 1.562821; batch adversarial mean loss: 0.655195\n",
      "epoch 4; iter: 5733; batch classifier mean loss: 2.286305; batch adversarial mean loss: 0.612494\n",
      "epoch 5; iter: 5733; batch classifier mean loss: 0.558253; batch adversarial mean loss: 0.675260\n",
      "epoch 6; iter: 5733; batch classifier mean loss: 0.388230; batch adversarial mean loss: 0.674922\n",
      "epoch 7; iter: 5733; batch classifier mean loss: 0.387553; batch adversarial mean loss: 0.674920\n",
      "epoch 8; iter: 5733; batch classifier mean loss: 0.386589; batch adversarial mean loss: 0.674895\n",
      "epoch 9; iter: 5733; batch classifier mean loss: 0.386087; batch adversarial mean loss: 0.674900\n",
      "epoch 10; iter: 5733; batch classifier mean loss: 0.385984; batch adversarial mean loss: 0.674882\n",
      "epoch 11; iter: 5733; batch classifier mean loss: 0.385419; batch adversarial mean loss: 0.674889\n",
      "epoch 12; iter: 5733; batch classifier mean loss: 0.385800; batch adversarial mean loss: 0.674871\n",
      "epoch 13; iter: 5733; batch classifier mean loss: 0.385172; batch adversarial mean loss: 0.674878\n",
      "epoch 14; iter: 5733; batch classifier mean loss: 0.384941; batch adversarial mean loss: 0.674877\n",
      "epoch 15; iter: 5733; batch classifier mean loss: 0.384935; batch adversarial mean loss: 0.674874\n",
      "epoch 16; iter: 5733; batch classifier mean loss: 0.384824; batch adversarial mean loss: 0.674879\n",
      "epoch 17; iter: 5733; batch classifier mean loss: 0.384742; batch adversarial mean loss: 0.674881\n",
      "epoch 18; iter: 5733; batch classifier mean loss: 0.385071; batch adversarial mean loss: 0.674872\n",
      "epoch 19; iter: 5733; batch classifier mean loss: 0.384655; batch adversarial mean loss: 0.674877\n",
      "epoch 20; iter: 5733; batch classifier mean loss: 0.384646; batch adversarial mean loss: 0.674874\n",
      "epoch 21; iter: 5733; batch classifier mean loss: 0.384738; batch adversarial mean loss: 0.674875\n",
      "epoch 22; iter: 5733; batch classifier mean loss: 0.384615; batch adversarial mean loss: 0.674871\n",
      "epoch 23; iter: 5733; batch classifier mean loss: 0.384547; batch adversarial mean loss: 0.674873\n",
      "epoch 24; iter: 5733; batch classifier mean loss: 0.384580; batch adversarial mean loss: 0.674876\n",
      "epoch 25; iter: 5733; batch classifier mean loss: 0.384598; batch adversarial mean loss: 0.674875\n",
      "epoch 26; iter: 5733; batch classifier mean loss: 0.384602; batch adversarial mean loss: 0.674875\n",
      "epoch 27; iter: 5733; batch classifier mean loss: 0.384532; batch adversarial mean loss: 0.674871\n",
      "epoch 28; iter: 5733; batch classifier mean loss: 0.384582; batch adversarial mean loss: 0.674876\n",
      "epoch 29; iter: 5733; batch classifier mean loss: 0.384574; batch adversarial mean loss: 0.674873\n",
      "epoch 30; iter: 5733; batch classifier mean loss: 0.384559; batch adversarial mean loss: 0.674872\n",
      "epoch 31; iter: 5733; batch classifier mean loss: 0.384543; batch adversarial mean loss: 0.674873\n",
      "epoch 32; iter: 5733; batch classifier mean loss: 0.384529; batch adversarial mean loss: 0.674874\n",
      "epoch 33; iter: 5733; batch classifier mean loss: 0.384548; batch adversarial mean loss: 0.674877\n",
      "epoch 34; iter: 5733; batch classifier mean loss: 0.384551; batch adversarial mean loss: 0.674873\n",
      "epoch 35; iter: 5733; batch classifier mean loss: 0.384543; batch adversarial mean loss: 0.674874\n",
      "epoch 36; iter: 5733; batch classifier mean loss: 0.384557; batch adversarial mean loss: 0.674876\n",
      "epoch 37; iter: 5733; batch classifier mean loss: 0.384566; batch adversarial mean loss: 0.674873\n",
      "epoch 38; iter: 5733; batch classifier mean loss: 0.384559; batch adversarial mean loss: 0.674874\n",
      "epoch 39; iter: 5733; batch classifier mean loss: 0.384552; batch adversarial mean loss: 0.674876\n",
      "epoch 40; iter: 5733; batch classifier mean loss: 0.384563; batch adversarial mean loss: 0.674874\n",
      "epoch 41; iter: 5733; batch classifier mean loss: 0.384539; batch adversarial mean loss: 0.674870\n",
      "epoch 42; iter: 5733; batch classifier mean loss: 0.384551; batch adversarial mean loss: 0.674871\n",
      "epoch 43; iter: 5733; batch classifier mean loss: 0.384543; batch adversarial mean loss: 0.674878\n",
      "epoch 44; iter: 5733; batch classifier mean loss: 0.384550; batch adversarial mean loss: 0.674869\n",
      "epoch 45; iter: 5733; batch classifier mean loss: 0.384551; batch adversarial mean loss: 0.674872\n",
      "epoch 46; iter: 5733; batch classifier mean loss: 0.384557; batch adversarial mean loss: 0.674873\n",
      "epoch 47; iter: 5733; batch classifier mean loss: 0.384550; batch adversarial mean loss: 0.674870\n",
      "epoch 48; iter: 5733; batch classifier mean loss: 0.384542; batch adversarial mean loss: 0.674870\n",
      "epoch 49; iter: 5733; batch classifier mean loss: 0.384560; batch adversarial mean loss: 0.674872\n"
     ]
    },
    {
     "data": {
      "text/plain": [
       "<aif360.algorithms.inprocessing.adversarial_debiasing.AdversarialDebiasing at 0x95883e50>"
      ]
     },
     "execution_count": 12,
     "metadata": {},
     "output_type": "execute_result"
    }
   ],
   "source": [
    "debiased_model.fit(dataset_orig_train)"
   ]
  },
  {
   "cell_type": "code",
   "execution_count": 13,
   "metadata": {
    "ExecuteTime": {
     "end_time": "2024-01-04T17:25:25.552217700Z",
     "start_time": "2024-01-04T17:25:25.190321800Z"
    }
   },
   "outputs": [],
   "source": [
    "# 将朴素模型应用于测试数据\n",
    "dataset_debiasing_train = debiased_model.predict(dataset_orig_train)\n",
    "dataset_debiasing_test = debiased_model.predict(dataset_orig_test)"
   ]
  },
  {
   "cell_type": "code",
   "execution_count": 14,
   "metadata": {
    "ExecuteTime": {
     "end_time": "2024-01-04T17:25:25.582524800Z",
     "start_time": "2024-01-04T17:25:25.557214700Z"
    }
   },
   "outputs": [
    {
     "data": {
      "text/markdown": [
       "#### Plain model - without debiasing - dataset metrics"
      ],
      "text/plain": [
       "<IPython.core.display.Markdown object>"
      ]
     },
     "metadata": {},
     "output_type": "display_data"
    },
    {
     "name": "stdout",
     "output_type": "stream",
     "text": [
      "Train set: Difference in mean outcomes between unprivileged and privileged groups = 0.000165\n",
      "Test set: Difference in mean outcomes between unprivileged and privileged groups = 0.000228\n"
     ]
    },
    {
     "data": {
      "text/markdown": [
       "#### Model - with debiasing - dataset metrics"
      ],
      "text/plain": [
       "<IPython.core.display.Markdown object>"
      ]
     },
     "metadata": {},
     "output_type": "display_data"
    },
    {
     "name": "stdout",
     "output_type": "stream",
     "text": [
      "Train set: Difference in mean outcomes between unprivileged and privileged groups = 0.000748\n",
      "Test set: Difference in mean outcomes between unprivileged and privileged groups = 0.000827\n"
     ]
    },
    {
     "data": {
      "text/markdown": [
       "#### Plain model - without debiasing - classification metrics"
      ],
      "text/plain": [
       "<IPython.core.display.Markdown object>"
      ]
     },
     "metadata": {},
     "output_type": "display_data"
    },
    {
     "name": "stdout",
     "output_type": "stream",
     "text": [
      "Test set: Classification accuracy = 0.866413\n",
      "Test set: Statistical parity difference = 0.000228\n",
      "Test set: Equalized Odds difference = 0.000036\n",
      "Test set: Equal opportunity difference = 0.000000\n",
      "Test set: Disparate impact = 1.000228\n"
     ]
    },
    {
     "data": {
      "text/markdown": [
       "#### Model - with debiasing - classification metrics"
      ],
      "text/plain": [
       "<IPython.core.display.Markdown object>"
      ]
     },
     "metadata": {},
     "output_type": "display_data"
    },
    {
     "name": "stdout",
     "output_type": "stream",
     "text": [
      "Test set: Classification accuracy = 0.866508\n",
      "Test set: Statistical parity difference = 0.000827\n",
      "Test set: Equalized Odds difference = 0.000245\n",
      "Test set: Equal opportunity difference = 0.000000\n",
      "Test set: Disparate impact = 1.000827\n"
     ]
    }
   ],
   "source": [
    "# 朴素模型数据集的度量指标（不去偏见）\n",
    "display(Markdown(\"#### Plain model - without debiasing - dataset metrics\"))\n",
    "print(\"Train set: Difference in mean outcomes between unprivileged and privileged groups = %f\" % metric_dataset_nodebiasing_train.mean_difference())\n",
    "print(\"Test set: Difference in mean outcomes between unprivileged and privileged groups = %f\" % metric_dataset_nodebiasing_test.mean_difference())\n",
    "\n",
    "# # 去偏见的模型数据集的度量指标\n",
    "display(Markdown(\"#### Model - with debiasing - dataset metrics\"))\n",
    "metric_dataset_debiasing_train = BinaryLabelDatasetMetric(dataset_debiasing_train, \n",
    "                                             unprivileged_groups=unprivileged_groups,\n",
    "                                             privileged_groups=privileged_groups)\n",
    "\n",
    "print(\"Train set: Difference in mean outcomes between unprivileged and privileged groups = %f\" % metric_dataset_debiasing_train.mean_difference())\n",
    "\n",
    "metric_dataset_debiasing_test = BinaryLabelDatasetMetric(dataset_debiasing_test, \n",
    "                                             unprivileged_groups=unprivileged_groups,\n",
    "                                             privileged_groups=privileged_groups)\n",
    "\n",
    "print(\"Test set: Difference in mean outcomes between unprivileged and privileged groups = %f\" % metric_dataset_debiasing_test.mean_difference())\n",
    "\n",
    "\n",
    "\n",
    "display(Markdown(\"#### Plain model - without debiasing - classification metrics\"))\n",
    "print(\"Test set: Classification accuracy = %f\" % classified_metric_nodebiasing_test.accuracy())\n",
    "TPR = classified_metric_nodebiasing_test.true_positive_rate()\n",
    "TNR = classified_metric_nodebiasing_test.true_negative_rate()\n",
    "bal_acc_nodebiasing_test = 0.5*(TPR+TNR)\n",
    "\n",
    "# print(\"Test set: Balanced classification accuracy = %f\" % bal_acc_nodebiasing_test)\n",
    "# print(\"Test set: Disparate impact = %f\" % classified_metric_nodebiasing_test.disparate_impact())\n",
    "# print(\"Test set: Equal opportunity difference = %f\" % classified_metric_nodebiasing_test.equal_opportunity_difference())\n",
    "# print(\"Test set: Average odds difference = %f\" % classified_metric_nodebiasing_test.average_odds_difference())\n",
    "# print(\"Test set: Theil_index = %f\" % classified_metric_nodebiasing_test.theil_index())\n",
    "print(\"Test set: Statistical parity difference = %f\" % classified_metric_nodebiasing_test.statistical_parity_difference())\n",
    "print(\"Test set: Equalized Odds difference = %f\" % classified_metric_nodebiasing_test.equalized_odds_difference())\n",
    "print(\"Test set: Equal opportunity difference = %f\" % classified_metric_nodebiasing_test.equal_opportunity_difference())\n",
    "print(\"Test set: Disparate impact = %f\" % classified_metric_nodebiasing_test.disparate_impact())\n",
    "\n",
    "\n",
    "display(Markdown(\"#### Model - with debiasing - classification metrics\"))\n",
    "classified_metric_debiasing_test = ClassificationMetric(dataset_orig_test, \n",
    "                                                 dataset_debiasing_test,\n",
    "                                                 unprivileged_groups=unprivileged_groups,\n",
    "                                                 privileged_groups=privileged_groups)\n",
    "print(\"Test set: Classification accuracy = %f\" % classified_metric_debiasing_test.accuracy())\n",
    "TPR = classified_metric_debiasing_test.true_positive_rate()\n",
    "TNR = classified_metric_debiasing_test.true_negative_rate()\n",
    "bal_acc_debiasing_test = 0.5*(TPR+TNR)\n",
    "\n",
    "print(\"Test set: Statistical parity difference = %f\" % classified_metric_debiasing_test.statistical_parity_difference())\n",
    "print(\"Test set: Equalized Odds difference = %f\" % classified_metric_debiasing_test.equalized_odds_difference())\n",
    "print(\"Test set: Equal opportunity difference = %f\" % classified_metric_debiasing_test.equal_opportunity_difference())\n",
    "print(\"Test set: Disparate impact = %f\" % classified_metric_debiasing_test.disparate_impact())"
   ]
  },
  {
   "cell_type": "code",
   "execution_count": null,
   "metadata": {
    "ExecuteTime": {
     "end_time": "2024-01-04T17:25:25.615944600Z",
     "start_time": "2024-01-04T17:25:25.581521100Z"
    }
   },
   "outputs": [],
   "source": []
  }
 ],
 "metadata": {
  "kernelspec": {
   "display_name": "Python 3 (ipykernel)",
   "language": "python",
   "name": "python3"
  },
  "language_info": {
   "codemirror_mode": {
    "name": "ipython",
    "version": 3
   },
   "file_extension": ".py",
   "mimetype": "text/x-python",
   "name": "python",
   "nbconvert_exporter": "python",
   "pygments_lexer": "ipython3",
   "version": "3.11.0"
  }
 },
 "nbformat": 4,
 "nbformat_minor": 2
}
