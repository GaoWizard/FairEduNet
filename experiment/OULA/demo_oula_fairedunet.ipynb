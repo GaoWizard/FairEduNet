{
 "cells": [
  {
   "cell_type": "code",
   "execution_count": 1,
   "metadata": {
    "ExecuteTime": {
     "end_time": "2024-01-04T17:24:54.696095Z",
     "start_time": "2024-01-04T17:24:49.505369300Z"
    }
   },
   "outputs": [
    {
     "name": "stderr",
     "output_type": "stream",
     "text": [
      "Using `tqdm.autonotebook.tqdm` in notebook mode. Use `tqdm.tqdm` instead to force console mode (e.g. in jupyter console)\n",
      "We've integrated functorch into PyTorch. As the final step of the integration, `functorch.vmap` is deprecated as of PyTorch 2.0 and will be deleted in a future version of PyTorch >= 2.3. Please use `torch.vmap` instead; see the PyTorch 2.0 release notes and/or the `torch.func` migration guide for more details https://pytorch.org/docs/main/func.migrating.html\n",
      "We've integrated functorch into PyTorch. As the final step of the integration, `functorch.vmap` is deprecated as of PyTorch 2.0 and will be deleted in a future version of PyTorch >= 2.3. Please use `torch.vmap` instead; see the PyTorch 2.0 release notes and/or the `torch.func` migration guide for more details https://pytorch.org/docs/main/func.migrating.html\n"
     ]
    }
   ],
   "source": [
    "%matplotlib inline\n",
    "\n",
    "# 加载需要的库\n",
    "import sys\n",
    "sys.path.append(\"../\")\n",
    "from aif360.datasets import BinaryLabelDataset\n",
    "from aif360.datasets import AdultDataset, GermanDataset, CompasDataset\n",
    "from aif360.datasets import OULADataset\n",
    "\n",
    "from aif360.datasets import StuperDataset\n",
    "from aif360.metrics import BinaryLabelDatasetMetric\n",
    "from aif360.metrics import ClassificationMetric\n",
    "from aif360.metrics.utils import compute_boolean_conditioning_vector\n",
    "\n",
    "from aif360.algorithms.preprocessing.optim_preproc_helpers.data_preproc_functions import load_preproc_data_oula\n",
    "from aif360.algorithms.preprocessing.optim_preproc_helpers.data_preproc_functions import load_preproc_data_stuper\n",
    "from aif360.algorithms.preprocessing.optim_preproc_helpers.data_preproc_functions import load_preproc_data_duolingo\n",
    "\n",
    "from aif360.algorithms.inprocessing.adversarial_debiasing import FairEduNet\n",
    "\n",
    "from sklearn.linear_model import LogisticRegression\n",
    "from sklearn.preprocessing import StandardScaler, MaxAbsScaler\n",
    "from sklearn.metrics import accuracy_score\n",
    "\n",
    "from IPython.display import Markdown, display\n",
    "import matplotlib.pyplot as plt\n",
    "\n",
    "import tensorflow.compat.v1 as tf\n",
    "tf.disable_eager_execution()"
   ]
  },
  {
   "cell_type": "markdown",
   "metadata": {},
   "source": [
    "#### 读取数据集和设置选项"
   ]
  },
  {
   "cell_type": "code",
   "execution_count": 2,
   "metadata": {
    "ExecuteTime": {
     "end_time": "2024-01-04T17:24:54.907520200Z",
     "start_time": "2024-01-04T17:24:54.691094300Z"
    }
   },
   "outputs": [],
   "source": [
    "# 获取数据集，进行训练集和测试集的划分\n",
    "dataset_orig = load_preproc_data_oula()\n",
    "\n",
    "privileged_groups = [{'gender': 0}]\n",
    "unprivileged_groups = [{'gender': 1}]\n",
    "\n",
    "dataset_orig_train, dataset_orig_test = dataset_orig.split([0.7], shuffle=True)"
   ]
  },
  {
   "cell_type": "code",
   "execution_count": 3,
   "metadata": {
    "ExecuteTime": {
     "end_time": "2024-01-04T17:24:54.919433300Z",
     "start_time": "2024-01-04T17:24:54.908520Z"
    },
    "scrolled": true
   },
   "outputs": [
    {
     "data": {
      "text/markdown": [
       "#### Training Dataset shape"
      ],
      "text/plain": [
       "<IPython.core.display.Markdown object>"
      ]
     },
     "metadata": {},
     "output_type": "display_data"
    },
    {
     "name": "stdout",
     "output_type": "stream",
     "text": [
      "(114375, 18)\n"
     ]
    },
    {
     "data": {
      "text/markdown": [
       "#### Favorable and unfavorable labels"
      ],
      "text/plain": [
       "<IPython.core.display.Markdown object>"
      ]
     },
     "metadata": {},
     "output_type": "display_data"
    },
    {
     "name": "stdout",
     "output_type": "stream",
     "text": [
      "1.0 0.0\n"
     ]
    },
    {
     "data": {
      "text/markdown": [
       "#### Protected attribute names"
      ],
      "text/plain": [
       "<IPython.core.display.Markdown object>"
      ]
     },
     "metadata": {},
     "output_type": "display_data"
    },
    {
     "name": "stdout",
     "output_type": "stream",
     "text": [
      "['gender']\n"
     ]
    },
    {
     "data": {
      "text/markdown": [
       "#### Privileged and unprivileged protected attribute values"
      ],
      "text/plain": [
       "<IPython.core.display.Markdown object>"
      ]
     },
     "metadata": {},
     "output_type": "display_data"
    },
    {
     "name": "stdout",
     "output_type": "stream",
     "text": [
      "[array([0.])] [array([1.])]\n"
     ]
    },
    {
     "data": {
      "text/markdown": [
       "#### Dataset feature names"
      ],
      "text/plain": [
       "<IPython.core.display.Markdown object>"
      ]
     },
     "metadata": {},
     "output_type": "display_data"
    },
    {
     "name": "stdout",
     "output_type": "stream",
     "text": [
      "['code_presentation', 'id_assessment', 'assessment_type', 'date', 'weight', 'module_presentation_length', 'id_student', 'date_submitted', 'is_banked', 'score', 'gender', 'region', 'highest_education', 'imd_band', 'age_band', 'num_of_prev_attempts', 'studied_credits', 'disability']\n"
     ]
    }
   ],
   "source": [
    "# 打印出数据集的一些特征\n",
    "display(Markdown(\"#### Training Dataset shape\"))\n",
    "print(dataset_orig_train.features.shape)\n",
    "display(Markdown(\"#### Favorable and unfavorable labels\"))\n",
    "print(dataset_orig_train.favorable_label, dataset_orig_train.unfavorable_label)\n",
    "display(Markdown(\"#### Protected attribute names\"))\n",
    "print(dataset_orig_train.protected_attribute_names)\n",
    "display(Markdown(\"#### Privileged and unprivileged protected attribute values\"))\n",
    "print(dataset_orig_train.privileged_protected_attributes, \n",
    "      dataset_orig_train.unprivileged_protected_attributes)\n",
    "display(Markdown(\"#### Dataset feature names\"))\n",
    "print(dataset_orig_train.feature_names)"
   ]
  },
  {
   "cell_type": "markdown",
   "metadata": {},
   "source": [
    "#### 原始训练数据的指标"
   ]
  },
  {
   "cell_type": "code",
   "execution_count": 4,
   "metadata": {
    "ExecuteTime": {
     "end_time": "2024-01-04T17:24:54.925854Z",
     "start_time": "2024-01-04T17:24:54.919433300Z"
    }
   },
   "outputs": [
    {
     "data": {
      "text/markdown": [
       "#### Original training dataset"
      ],
      "text/plain": [
       "<IPython.core.display.Markdown object>"
      ]
     },
     "metadata": {},
     "output_type": "display_data"
    },
    {
     "name": "stdout",
     "output_type": "stream",
     "text": [
      "Train set: Difference in mean outcomes between unprivileged and privileged groups = -0.004906\n",
      "Test set: Difference in mean outcomes between unprivileged and privileged groups = -0.004220\n"
     ]
    }
   ],
   "source": [
    "# 原始数据集的指标\n",
    "metric_orig_train = BinaryLabelDatasetMetric(dataset_orig_train, \n",
    "                                             unprivileged_groups=unprivileged_groups,\n",
    "                                             privileged_groups=privileged_groups)\n",
    "display(Markdown(\"#### Original training dataset\"))\n",
    "print(\"Train set: Difference in mean outcomes between unprivileged and privileged groups = %f\" % metric_orig_train.mean_difference())\n",
    "metric_orig_test = BinaryLabelDatasetMetric(dataset_orig_test, \n",
    "                                             unprivileged_groups=unprivileged_groups,\n",
    "                                             privileged_groups=privileged_groups)\n",
    "print(\"Test set: Difference in mean outcomes between unprivileged and privileged groups = %f\" % metric_orig_test.mean_difference())"
   ]
  },
  {
   "cell_type": "code",
   "execution_count": 5,
   "metadata": {
    "ExecuteTime": {
     "end_time": "2024-01-04T17:24:55.013385Z",
     "start_time": "2024-01-04T17:24:54.927854300Z"
    }
   },
   "outputs": [
    {
     "data": {
      "text/markdown": [
       "#### Scaled dataset - Verify that the scaling does not affect the group label statistics"
      ],
      "text/plain": [
       "<IPython.core.display.Markdown object>"
      ]
     },
     "metadata": {},
     "output_type": "display_data"
    },
    {
     "name": "stdout",
     "output_type": "stream",
     "text": [
      "Train set: Difference in mean outcomes between unprivileged and privileged groups = -0.004906\n",
      "Test set: Difference in mean outcomes between unprivileged and privileged groups = -0.004220\n"
     ]
    }
   ],
   "source": [
    "min_max_scaler = MaxAbsScaler()\n",
    "dataset_orig_train.features = min_max_scaler.fit_transform(dataset_orig_train.features)\n",
    "dataset_orig_test.features = min_max_scaler.transform(dataset_orig_test.features)\n",
    "metric_scaled_train = BinaryLabelDatasetMetric(dataset_orig_train, \n",
    "                             unprivileged_groups=unprivileged_groups,\n",
    "                             privileged_groups=privileged_groups)\n",
    "# 缩放数据集 - 验证缩放是否不会影响组标签统计数据\n",
    "display(Markdown(\"#### Scaled dataset - Verify that the scaling does not affect the group label statistics\"))\n",
    "print(\"Train set: Difference in mean outcomes between unprivileged and privileged groups = %f\" % metric_scaled_train.mean_difference())\n",
    "metric_scaled_test = BinaryLabelDatasetMetric(dataset_orig_test, \n",
    "                             unprivileged_groups=unprivileged_groups,\n",
    "                             privileged_groups=privileged_groups)\n",
    "print(\"Test set: Difference in mean outcomes between unprivileged and privileged groups = %f\" % metric_scaled_test.mean_difference())\n"
   ]
  },
  {
   "cell_type": "markdown",
   "metadata": {},
   "source": [
    "### 应用基于Adversarial Debiasing的处理中算法"
   ]
  },
  {
   "cell_type": "code",
   "execution_count": 6,
   "metadata": {
    "ExecuteTime": {
     "end_time": "2024-01-04T17:25:08.478856700Z",
     "start_time": "2024-01-04T17:25:08.471986Z"
    }
   },
   "outputs": [],
   "source": [
    "# Learn parameters with debias set to True\n",
    "# 在去偏见设置为True时学习参数\n",
    "sess = tf.Session()\n",
    "debiased_model = AdversarialDebiasing(privileged_groups = privileged_groups,\n",
    "                          unprivileged_groups = unprivileged_groups,\n",
    "                          scope_name='debiased_classifier',\n",
    "                          debias=True,\n",
    "                          sess=sess)"
   ]
  },
  {
   "cell_type": "code",
   "execution_count": 7,
   "metadata": {
    "ExecuteTime": {
     "end_time": "2024-01-04T17:25:25.197322300Z",
     "start_time": "2024-01-04T17:25:08.477834700Z"
    },
    "scrolled": false
   },
   "outputs": [
    {
     "name": "stdout",
     "output_type": "stream",
     "text": [
      "诊断 - 所有可训练变量:\n",
      "变量: debiased_classifier/classifier_model_gate/dense/kernel:0\n",
      "变量: debiased_classifier/classifier_model_gate/dense/bias:0\n",
      "变量: debiased_classifier/classifier_model_gate/dense_1/kernel:0\n",
      "变量: debiased_classifier/classifier_model_gate/dense_1/bias:0\n",
      "变量: debiased_classifier/classifier_model_expert_0/dense_2/kernel:0\n",
      "变量: debiased_classifier/classifier_model_expert_0/dense_2/bias:0\n",
      "变量: debiased_classifier/classifier_model_expert_0/dense_3/kernel:0\n",
      "变量: debiased_classifier/classifier_model_expert_0/dense_3/bias:0\n",
      "变量: debiased_classifier/classifier_model_expert_0/dense_4/kernel:0\n",
      "变量: debiased_classifier/classifier_model_expert_0/dense_4/bias:0\n",
      "变量: debiased_classifier/classifier_model_expert_1/dense_5/kernel:0\n",
      "变量: debiased_classifier/classifier_model_expert_1/dense_5/bias:0\n",
      "变量: debiased_classifier/classifier_model_expert_1/dense_6/kernel:0\n",
      "变量: debiased_classifier/classifier_model_expert_1/dense_6/bias:0\n",
      "变量: debiased_classifier/classifier_model_expert_1/dense_7/kernel:0\n",
      "变量: debiased_classifier/classifier_model_expert_1/dense_7/bias:0\n",
      "变量: debiased_classifier/classifier_model_expert_2/dense_8/kernel:0\n",
      "变量: debiased_classifier/classifier_model_expert_2/dense_8/bias:0\n",
      "变量: debiased_classifier/classifier_model_expert_2/dense_9/kernel:0\n",
      "变量: debiased_classifier/classifier_model_expert_2/dense_9/bias:0\n",
      "变量: debiased_classifier/classifier_model_expert_2/dense_10/kernel:0\n",
      "变量: debiased_classifier/classifier_model_expert_2/dense_10/bias:0\n",
      "变量: debiased_classifier/classifier_model_expert_3/dense_11/kernel:0\n",
      "变量: debiased_classifier/classifier_model_expert_3/dense_11/bias:0\n",
      "变量: debiased_classifier/classifier_model_expert_3/dense_12/kernel:0\n",
      "变量: debiased_classifier/classifier_model_expert_3/dense_12/bias:0\n",
      "变量: debiased_classifier/classifier_model_expert_3/dense_13/kernel:0\n",
      "变量: debiased_classifier/classifier_model_expert_3/dense_13/bias:0\n",
      "变量: debiased_classifier/classifier_model_expert_4/dense_14/kernel:0\n",
      "变量: debiased_classifier/classifier_model_expert_4/dense_14/bias:0\n",
      "变量: debiased_classifier/classifier_model_expert_4/dense_15/kernel:0\n",
      "变量: debiased_classifier/classifier_model_expert_4/dense_15/bias:0\n",
      "变量: debiased_classifier/classifier_model_expert_4/dense_16/kernel:0\n",
      "变量: debiased_classifier/classifier_model_expert_4/dense_16/bias:0\n",
      "变量: debiased_classifier/classifier_model_expert_5/dense_17/kernel:0\n",
      "变量: debiased_classifier/classifier_model_expert_5/dense_17/bias:0\n",
      "变量: debiased_classifier/classifier_model_expert_5/dense_18/kernel:0\n",
      "变量: debiased_classifier/classifier_model_expert_5/dense_18/bias:0\n",
      "变量: debiased_classifier/classifier_model_expert_5/dense_19/kernel:0\n",
      "变量: debiased_classifier/classifier_model_expert_5/dense_19/bias:0\n",
      "变量: debiased_classifier/classifier_model_expert_6/dense_20/kernel:0\n",
      "变量: debiased_classifier/classifier_model_expert_6/dense_20/bias:0\n",
      "变量: debiased_classifier/classifier_model_expert_6/dense_21/kernel:0\n",
      "变量: debiased_classifier/classifier_model_expert_6/dense_21/bias:0\n",
      "变量: debiased_classifier/classifier_model_expert_6/dense_22/kernel:0\n",
      "变量: debiased_classifier/classifier_model_expert_6/dense_22/bias:0\n",
      "变量: debiased_classifier/classifier_model_expert_7/dense_23/kernel:0\n",
      "变量: debiased_classifier/classifier_model_expert_7/dense_23/bias:0\n",
      "变量: debiased_classifier/classifier_model_expert_7/dense_24/kernel:0\n",
      "变量: debiased_classifier/classifier_model_expert_7/dense_24/bias:0\n",
      "变量: debiased_classifier/classifier_model_expert_7/dense_25/kernel:0\n",
      "变量: debiased_classifier/classifier_model_expert_7/dense_25/bias:0\n",
      "变量: debiased_classifier/adversary_model/c:0\n",
      "变量: debiased_classifier/adversary_model/W2:0\n",
      "变量: debiased_classifier/adversary_model/b2:0\n",
      "epoch 0; iter: 892; batch classifier mean loss: 0.644465; batch adversarial mean loss: 0.692635\n",
      "epoch 1; iter: 892; batch classifier mean loss: 0.630451; batch adversarial mean loss: 0.692011\n",
      "epoch 2; iter: 892; batch classifier mean loss: 0.627267; batch adversarial mean loss: 0.691840\n",
      "epoch 3; iter: 892; batch classifier mean loss: 0.623911; batch adversarial mean loss: 0.691575\n",
      "epoch 4; iter: 892; batch classifier mean loss: 0.623320; batch adversarial mean loss: 0.691742\n",
      "epoch 5; iter: 892; batch classifier mean loss: 0.622213; batch adversarial mean loss: 0.691647\n",
      "epoch 6; iter: 892; batch classifier mean loss: 0.620165; batch adversarial mean loss: 0.691734\n",
      "epoch 7; iter: 892; batch classifier mean loss: 0.619965; batch adversarial mean loss: 0.691919\n",
      "epoch 8; iter: 892; batch classifier mean loss: 0.621041; batch adversarial mean loss: 0.692398\n",
      "epoch 9; iter: 892; batch classifier mean loss: 0.619018; batch adversarial mean loss: 0.691779\n",
      "epoch 10; iter: 892; batch classifier mean loss: 0.621537; batch adversarial mean loss: 0.691974\n",
      "epoch 11; iter: 892; batch classifier mean loss: 0.616783; batch adversarial mean loss: 0.691803\n",
      "epoch 12; iter: 892; batch classifier mean loss: 0.616897; batch adversarial mean loss: 0.692143\n",
      "epoch 13; iter: 892; batch classifier mean loss: 0.615331; batch adversarial mean loss: 0.691802\n",
      "epoch 14; iter: 892; batch classifier mean loss: 0.615238; batch adversarial mean loss: 0.691970\n",
      "epoch 15; iter: 892; batch classifier mean loss: 0.613828; batch adversarial mean loss: 0.691773\n",
      "epoch 16; iter: 892; batch classifier mean loss: 0.613367; batch adversarial mean loss: 0.691758\n",
      "epoch 17; iter: 892; batch classifier mean loss: 0.612011; batch adversarial mean loss: 0.691840\n",
      "epoch 18; iter: 892; batch classifier mean loss: 0.610952; batch adversarial mean loss: 0.691776\n",
      "epoch 19; iter: 892; batch classifier mean loss: 0.612106; batch adversarial mean loss: 0.691881\n",
      "epoch 20; iter: 892; batch classifier mean loss: 0.610818; batch adversarial mean loss: 0.691821\n",
      "epoch 21; iter: 892; batch classifier mean loss: 0.609814; batch adversarial mean loss: 0.691791\n",
      "epoch 22; iter: 892; batch classifier mean loss: 0.609605; batch adversarial mean loss: 0.691800\n",
      "epoch 23; iter: 892; batch classifier mean loss: 0.609781; batch adversarial mean loss: 0.691901\n",
      "epoch 24; iter: 892; batch classifier mean loss: 0.608079; batch adversarial mean loss: 0.691768\n",
      "epoch 25; iter: 892; batch classifier mean loss: 0.608394; batch adversarial mean loss: 0.691764\n",
      "epoch 26; iter: 892; batch classifier mean loss: 0.606318; batch adversarial mean loss: 0.691726\n",
      "epoch 27; iter: 892; batch classifier mean loss: 0.605556; batch adversarial mean loss: 0.691659\n",
      "epoch 28; iter: 892; batch classifier mean loss: 0.604871; batch adversarial mean loss: 0.691652\n",
      "epoch 29; iter: 892; batch classifier mean loss: 0.603360; batch adversarial mean loss: 0.691673\n",
      "epoch 30; iter: 892; batch classifier mean loss: 0.604170; batch adversarial mean loss: 0.691689\n",
      "epoch 31; iter: 892; batch classifier mean loss: 0.603035; batch adversarial mean loss: 0.691636\n",
      "epoch 32; iter: 892; batch classifier mean loss: 0.602365; batch adversarial mean loss: 0.691660\n",
      "epoch 33; iter: 892; batch classifier mean loss: 0.601901; batch adversarial mean loss: 0.691683\n",
      "epoch 34; iter: 892; batch classifier mean loss: 0.601975; batch adversarial mean loss: 0.691657\n",
      "epoch 35; iter: 892; batch classifier mean loss: 0.601349; batch adversarial mean loss: 0.691750\n",
      "epoch 36; iter: 892; batch classifier mean loss: 0.602163; batch adversarial mean loss: 0.691679\n",
      "epoch 37; iter: 892; batch classifier mean loss: 0.600184; batch adversarial mean loss: 0.691773\n",
      "epoch 38; iter: 892; batch classifier mean loss: 0.599735; batch adversarial mean loss: 0.691662\n",
      "epoch 39; iter: 892; batch classifier mean loss: 0.600301; batch adversarial mean loss: 0.691680\n",
      "epoch 40; iter: 892; batch classifier mean loss: 0.599017; batch adversarial mean loss: 0.691630\n",
      "epoch 41; iter: 892; batch classifier mean loss: 0.599614; batch adversarial mean loss: 0.691687\n",
      "epoch 42; iter: 892; batch classifier mean loss: 0.597742; batch adversarial mean loss: 0.691637\n",
      "epoch 43; iter: 892; batch classifier mean loss: 0.598164; batch adversarial mean loss: 0.691633\n",
      "epoch 44; iter: 892; batch classifier mean loss: 0.597820; batch adversarial mean loss: 0.691639\n",
      "epoch 45; iter: 892; batch classifier mean loss: 0.597591; batch adversarial mean loss: 0.691650\n",
      "epoch 46; iter: 892; batch classifier mean loss: 0.596646; batch adversarial mean loss: 0.691624\n",
      "epoch 47; iter: 892; batch classifier mean loss: 0.597875; batch adversarial mean loss: 0.691623\n"
     ]
    },
    {
     "name": "stdout",
     "output_type": "stream",
     "text": [
      "epoch 48; iter: 892; batch classifier mean loss: 0.596378; batch adversarial mean loss: 0.691613\n",
      "epoch 49; iter: 892; batch classifier mean loss: 0.595570; batch adversarial mean loss: 0.691581\n",
      "诊断 - 所有可训练变量:\n",
      "变量: debiased_classifier/classifier_model_gate/dense/kernel:0\n",
      "变量: debiased_classifier/classifier_model_gate/dense/bias:0\n",
      "变量: debiased_classifier/classifier_model_gate/dense_1/kernel:0\n",
      "变量: debiased_classifier/classifier_model_gate/dense_1/bias:0\n",
      "变量: debiased_classifier/classifier_model_expert_0/dense_2/kernel:0\n",
      "变量: debiased_classifier/classifier_model_expert_0/dense_2/bias:0\n",
      "变量: debiased_classifier/classifier_model_expert_0/dense_3/kernel:0\n",
      "变量: debiased_classifier/classifier_model_expert_0/dense_3/bias:0\n",
      "变量: debiased_classifier/classifier_model_expert_0/dense_4/kernel:0\n",
      "变量: debiased_classifier/classifier_model_expert_0/dense_4/bias:0\n",
      "变量: debiased_classifier/classifier_model_expert_1/dense_5/kernel:0\n",
      "变量: debiased_classifier/classifier_model_expert_1/dense_5/bias:0\n",
      "变量: debiased_classifier/classifier_model_expert_1/dense_6/kernel:0\n",
      "变量: debiased_classifier/classifier_model_expert_1/dense_6/bias:0\n",
      "变量: debiased_classifier/classifier_model_expert_1/dense_7/kernel:0\n",
      "变量: debiased_classifier/classifier_model_expert_1/dense_7/bias:0\n",
      "变量: debiased_classifier/classifier_model_expert_2/dense_8/kernel:0\n",
      "变量: debiased_classifier/classifier_model_expert_2/dense_8/bias:0\n",
      "变量: debiased_classifier/classifier_model_expert_2/dense_9/kernel:0\n",
      "变量: debiased_classifier/classifier_model_expert_2/dense_9/bias:0\n",
      "变量: debiased_classifier/classifier_model_expert_2/dense_10/kernel:0\n",
      "变量: debiased_classifier/classifier_model_expert_2/dense_10/bias:0\n",
      "变量: debiased_classifier/classifier_model_expert_3/dense_11/kernel:0\n",
      "变量: debiased_classifier/classifier_model_expert_3/dense_11/bias:0\n",
      "变量: debiased_classifier/classifier_model_expert_3/dense_12/kernel:0\n",
      "变量: debiased_classifier/classifier_model_expert_3/dense_12/bias:0\n",
      "变量: debiased_classifier/classifier_model_expert_3/dense_13/kernel:0\n",
      "变量: debiased_classifier/classifier_model_expert_3/dense_13/bias:0\n",
      "变量: debiased_classifier/classifier_model_expert_4/dense_14/kernel:0\n",
      "变量: debiased_classifier/classifier_model_expert_4/dense_14/bias:0\n",
      "变量: debiased_classifier/classifier_model_expert_4/dense_15/kernel:0\n",
      "变量: debiased_classifier/classifier_model_expert_4/dense_15/bias:0\n",
      "变量: debiased_classifier/classifier_model_expert_4/dense_16/kernel:0\n",
      "变量: debiased_classifier/classifier_model_expert_4/dense_16/bias:0\n",
      "变量: debiased_classifier/classifier_model_expert_5/dense_17/kernel:0\n",
      "变量: debiased_classifier/classifier_model_expert_5/dense_17/bias:0\n",
      "变量: debiased_classifier/classifier_model_expert_5/dense_18/kernel:0\n",
      "变量: debiased_classifier/classifier_model_expert_5/dense_18/bias:0\n",
      "变量: debiased_classifier/classifier_model_expert_5/dense_19/kernel:0\n",
      "变量: debiased_classifier/classifier_model_expert_5/dense_19/bias:0\n",
      "变量: debiased_classifier/classifier_model_expert_6/dense_20/kernel:0\n",
      "变量: debiased_classifier/classifier_model_expert_6/dense_20/bias:0\n",
      "变量: debiased_classifier/classifier_model_expert_6/dense_21/kernel:0\n",
      "变量: debiased_classifier/classifier_model_expert_6/dense_21/bias:0\n",
      "变量: debiased_classifier/classifier_model_expert_6/dense_22/kernel:0\n",
      "变量: debiased_classifier/classifier_model_expert_6/dense_22/bias:0\n",
      "变量: debiased_classifier/classifier_model_expert_7/dense_23/kernel:0\n",
      "变量: debiased_classifier/classifier_model_expert_7/dense_23/bias:0\n",
      "变量: debiased_classifier/classifier_model_expert_7/dense_24/kernel:0\n",
      "变量: debiased_classifier/classifier_model_expert_7/dense_24/bias:0\n",
      "变量: debiased_classifier/classifier_model_expert_7/dense_25/kernel:0\n",
      "变量: debiased_classifier/classifier_model_expert_7/dense_25/bias:0\n",
      "变量: debiased_classifier/adversary_model/c:0\n",
      "变量: debiased_classifier/adversary_model/W2:0\n",
      "变量: debiased_classifier/adversary_model/b2:0\n"
     ]
    },
    {
     "data": {
      "text/plain": [
       "<aif360.algorithms.inprocessing.adversarial_debiasing.AdversarialDebiasing at 0x868a90d0>"
      ]
     },
     "execution_count": 7,
     "metadata": {},
     "output_type": "execute_result"
    }
   ],
   "source": [
    "debiased_model.fit(dataset_orig_train)"
   ]
  },
  {
   "cell_type": "code",
   "execution_count": 8,
   "metadata": {
    "ExecuteTime": {
     "end_time": "2024-01-04T17:25:25.552217700Z",
     "start_time": "2024-01-04T17:25:25.190321800Z"
    }
   },
   "outputs": [],
   "source": [
    "# 将朴素模型应用于测试数据\n",
    "dataset_debiasing_train = debiased_model.predict(dataset_orig_train)\n",
    "dataset_debiasing_test = debiased_model.predict(dataset_orig_test)"
   ]
  },
  {
   "cell_type": "code",
   "execution_count": 9,
   "metadata": {},
   "outputs": [
    {
     "name": "stderr",
     "output_type": "stream",
     "text": [
      "Glyph 19987 (\\N{CJK UNIFIED IDEOGRAPH-4E13}) missing from current font.\n",
      "Glyph 23478 (\\N{CJK UNIFIED IDEOGRAPH-5BB6}) missing from current font.\n",
      "Glyph 21435 (\\N{CJK UNIFIED IDEOGRAPH-53BB}) missing from current font.\n",
      "Glyph 20559 (\\N{CJK UNIFIED IDEOGRAPH-504F}) missing from current font.\n",
      "Glyph 35265 (\\N{CJK UNIFIED IDEOGRAPH-89C1}) missing from current font.\n",
      "Glyph 27169 (\\N{CJK UNIFIED IDEOGRAPH-6A21}) missing from current font.\n",
      "Glyph 22411 (\\N{CJK UNIFIED IDEOGRAPH-578B}) missing from current font.\n",
      "Glyph 32593 (\\N{CJK UNIFIED IDEOGRAPH-7F51}) missing from current font.\n",
      "Glyph 32476 (\\N{CJK UNIFIED IDEOGRAPH-7EDC}) missing from current font.\n",
      "Glyph 29305 (\\N{CJK UNIFIED IDEOGRAPH-7279}) missing from current font.\n",
      "Glyph 24449 (\\N{CJK UNIFIED IDEOGRAPH-5F81}) missing from current font.\n",
      "Glyph 37325 (\\N{CJK UNIFIED IDEOGRAPH-91CD}) missing from current font.\n",
      "Glyph 35201 (\\N{CJK UNIFIED IDEOGRAPH-8981}) missing from current font.\n",
      "Glyph 24615 (\\N{CJK UNIFIED IDEOGRAPH-6027}) missing from current font.\n",
      "Glyph 28909 (\\N{CJK UNIFIED IDEOGRAPH-70ED}) missing from current font.\n",
      "Glyph 22270 (\\N{CJK UNIFIED IDEOGRAPH-56FE}) missing from current font.\n",
      "Glyph 19987 (\\N{CJK UNIFIED IDEOGRAPH-4E13}) missing from current font.\n",
      "Glyph 23478 (\\N{CJK UNIFIED IDEOGRAPH-5BB6}) missing from current font.\n",
      "Glyph 21435 (\\N{CJK UNIFIED IDEOGRAPH-53BB}) missing from current font.\n",
      "Glyph 20559 (\\N{CJK UNIFIED IDEOGRAPH-504F}) missing from current font.\n",
      "Glyph 35265 (\\N{CJK UNIFIED IDEOGRAPH-89C1}) missing from current font.\n",
      "Glyph 27169 (\\N{CJK UNIFIED IDEOGRAPH-6A21}) missing from current font.\n",
      "Glyph 22411 (\\N{CJK UNIFIED IDEOGRAPH-578B}) missing from current font.\n",
      "Glyph 32593 (\\N{CJK UNIFIED IDEOGRAPH-7F51}) missing from current font.\n",
      "Glyph 32476 (\\N{CJK UNIFIED IDEOGRAPH-7EDC}) missing from current font.\n",
      "Glyph 29305 (\\N{CJK UNIFIED IDEOGRAPH-7279}) missing from current font.\n",
      "Glyph 24449 (\\N{CJK UNIFIED IDEOGRAPH-5F81}) missing from current font.\n",
      "Glyph 37325 (\\N{CJK UNIFIED IDEOGRAPH-91CD}) missing from current font.\n",
      "Glyph 35201 (\\N{CJK UNIFIED IDEOGRAPH-8981}) missing from current font.\n",
      "Glyph 24615 (\\N{CJK UNIFIED IDEOGRAPH-6027}) missing from current font.\n",
      "Glyph 28909 (\\N{CJK UNIFIED IDEOGRAPH-70ED}) missing from current font.\n",
      "Glyph 22270 (\\N{CJK UNIFIED IDEOGRAPH-56FE}) missing from current font.\n"
     ]
    },
    {
     "data": {
      "image/png": "[encoded data removed]",
      "text/plain": [
       "<Figure size 1200x800 with 2 Axes>"
      ]
     },
     "metadata": {},
     "output_type": "display_data"
    }
   ],
   "source": [
    "# # 对去偏见模型也做同样的分析\n",
    "# print(\"特征重要性分析（去偏见模型）：\")\n",
    "# feature_importance_debiased = debiased_model.get_feature_importance(dataset_orig_train)\n",
    "\n",
    "# # 排序并可视化\n",
    "# sorted_importance_debiased = sorted(feature_importance_debiased, key=lambda x: x[1], reverse=True)\n",
    "# feature_names_debiased = [x[0] for x in sorted_importance_debiased]\n",
    "# importance_values_debiased = [x[1] for x in sorted_importance_debiased]\n",
    "\n",
    "# plt.figure(figsize=(10, 6))\n",
    "# plt.barh(feature_names_debiased, importance_values_debiased)\n",
    "# plt.xlabel('重要性分数')\n",
    "# plt.ylabel('特征')\n",
    "# plt.title('特征重要性（去偏见模型）')\n",
    "# plt.tight_layout()\n",
    "# plt.show()\n",
    "\n",
    "# 可视化每个专家网络对每个特征的活跃程度\n",
    "def visualize_expert_importance(model, dataset, title):\n",
    "    import numpy as np \n",
    "    expert_importance = model.analyze_expert_weights()\n",
    "    feature_names = dataset.feature_names\n",
    "    \n",
    "    if not expert_importance or not any(expert_importance):\n",
    "        print(f\"警告：无法获取{title}的专家网络重要性\")\n",
    "        return\n",
    "    \n",
    "    # 只使用第一层权重分析特征重要性\n",
    "    expert_first_layer = []\n",
    "    for expert_id, expert_layers in enumerate(expert_importance):\n",
    "        if expert_layers:\n",
    "            expert_first_layer.append(expert_layers[0])\n",
    "        else:\n",
    "            # 如果该专家没有权重，用零填充\n",
    "            expert_first_layer.append(np.zeros(len(feature_names)))\n",
    "    \n",
    "    # 创建热图\n",
    "    plt.figure(figsize=(12, 8))\n",
    "    ax = plt.gca()\n",
    "    im = ax.imshow(expert_first_layer, aspect='auto', cmap='viridis')\n",
    "    \n",
    "    # 设置坐标轴\n",
    "    ax.set_xticks(np.arange(len(feature_names)))\n",
    "    ax.set_yticks(np.arange(len(expert_importance)))\n",
    "    ax.set_xticklabels(feature_names, rotation=45, ha='right')\n",
    "    ax.set_yticklabels([f'专家 {i}' for i in range(len(expert_importance))])\n",
    "    \n",
    "    # 添加颜色条\n",
    "    plt.colorbar(im, ax=ax, label='特征重要性')\n",
    "    \n",
    "    # 设置标题和标签\n",
    "    plt.title(f'{title} - 专家网络特征重要性热图')\n",
    "    plt.tight_layout()\n",
    "    plt.show()\n",
    "\n",
    "# 可视化两个模型的专家网络特征重要性\n",
    "visualize_expert_importance(debiased_model, dataset_orig_train, \"去偏见模型\")"
   ]
  },
  {
   "cell_type": "code",
   "execution_count": 10,
   "metadata": {
    "ExecuteTime": {
     "end_time": "2024-01-04T17:25:25.582524800Z",
     "start_time": "2024-01-04T17:25:25.557214700Z"
    }
   },
   "outputs": [
    {
     "data": {
      "text/markdown": [
       "#### Model - with debiasing - dataset metrics"
      ],
      "text/plain": [
       "<IPython.core.display.Markdown object>"
      ]
     },
     "metadata": {},
     "output_type": "display_data"
    },
    {
     "name": "stdout",
     "output_type": "stream",
     "text": [
      "Train set: Difference in mean outcomes between unprivileged and privileged groups = -0.017127\n",
      "Test set: Difference in mean outcomes between unprivileged and privileged groups = -0.012201\n"
     ]
    },
    {
     "data": {
      "text/markdown": [
       "#### Model - with debiasing - classification metrics"
      ],
      "text/plain": [
       "<IPython.core.display.Markdown object>"
      ]
     },
     "metadata": {},
     "output_type": "display_data"
    },
    {
     "name": "stdout",
     "output_type": "stream",
     "text": [
      "Test set: Classification accuracy = 0.669373\n",
      "Test set: Statistical parity difference = -0.012201\n",
      "Test set: Equalized Odds difference = 0.004819\n",
      "Test set: Equal opportunity difference = 0.000000\n",
      "Test set: Disparate impact = 0.984713\n"
     ]
    }
   ],
   "source": [
    "# # 去偏见的模型数据集的度量指标\n",
    "display(Markdown(\"#### Model - with debiasing - dataset metrics\"))\n",
    "metric_dataset_debiasing_train = BinaryLabelDatasetMetric(dataset_debiasing_train, \n",
    "                                             unprivileged_groups=unprivileged_groups,\n",
    "                                             privileged_groups=privileged_groups)\n",
    "\n",
    "print(\"Train set: Difference in mean outcomes between unprivileged and privileged groups = %f\" % metric_dataset_debiasing_train.mean_difference())\n",
    "\n",
    "metric_dataset_debiasing_test = BinaryLabelDatasetMetric(dataset_debiasing_test, \n",
    "                                             unprivileged_groups=unprivileged_groups,\n",
    "                                             privileged_groups=privileged_groups)\n",
    "\n",
    "print(\"Test set: Difference in mean outcomes between unprivileged and privileged groups = %f\" % metric_dataset_debiasing_test.mean_difference())\n",
    "\n",
    "\n",
    "\n",
    "\n",
    "display(Markdown(\"#### Model - with debiasing - classification metrics\"))\n",
    "classified_metric_debiasing_test = ClassificationMetric(dataset_orig_test, \n",
    "                                                 dataset_debiasing_test,\n",
    "                                                 unprivileged_groups=unprivileged_groups,\n",
    "                                                 privileged_groups=privileged_groups)\n",
    "print(\"Test set: Classification accuracy = %f\" % classified_metric_debiasing_test.accuracy())\n",
    "TPR = classified_metric_debiasing_test.true_positive_rate()\n",
    "TNR = classified_metric_debiasing_test.true_negative_rate()\n",
    "bal_acc_debiasing_test = 0.5*(TPR+TNR)\n",
    "\n",
    "print(\"Test set: Statistical parity difference = %f\" % classified_metric_debiasing_test.statistical_parity_difference())\n",
    "print(\"Test set: Equalized Odds difference = %f\" % classified_metric_debiasing_test.equalized_odds_difference())\n",
    "print(\"Test set: Equal opportunity difference = %f\" % classified_metric_debiasing_test.equal_opportunity_difference())\n",
    "print(\"Test set: Disparate impact = %f\" % classified_metric_debiasing_test.disparate_impact())"
   ]
  },
  {
   "cell_type": "code",
   "execution_count": null,
   "metadata": {
    "ExecuteTime": {
     "end_time": "2024-01-04T17:25:25.615944600Z",
     "start_time": "2024-01-04T17:25:25.581521100Z"
    }
   },
   "outputs": [],
   "source": []
  }
 ],
 "metadata": {
  "kernelspec": {
   "display_name": "Python 3 (ipykernel)",
   "language": "python",
   "name": "python3"
  },
  "language_info": {
   "codemirror_mode": {
    "name": "ipython",
    "version": 3
   },
   "file_extension": ".py",
   "mimetype": "text/x-python",
   "name": "python",
   "nbconvert_exporter": "python",
   "pygments_lexer": "ipython3",
   "version": "3.11.0"
  }
 },
 "nbformat": 4,
 "nbformat_minor": 2
}
