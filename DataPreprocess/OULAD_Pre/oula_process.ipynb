{
 "cells": [
  {
   "cell_type": "code",
   "execution_count": 1,
   "id": "d5d34fffe23c9f21",
   "metadata": {
    "ExecuteTime": {
     "end_time": "2025-03-24T04:45:11.357759200Z",
     "start_time": "2025-03-24T04:45:11.048170800Z"
    }
   },
   "outputs": [],
   "source": [
    "import pandas as pd\n",
    "import numpy as np"
   ]
  },
  {
   "cell_type": "code",
   "execution_count": 2,
   "id": "initial_id",
   "metadata": {
    "ExecuteTime": {
     "end_time": "2025-03-24T04:45:11.535834800Z",
     "start_time": "2025-03-24T04:45:11.359644Z"
    }
   },
   "outputs": [],
   "source": [
    "df = pd.read_csv('final.csv')"
   ]
  },
  {
   "cell_type": "code",
   "execution_count": 3,
   "id": "93bbbf898eb8884b",
   "metadata": {
    "ExecuteTime": {
     "end_time": "2025-03-24T04:45:11.544680500Z",
     "start_time": "2025-03-24T04:45:11.535834800Z"
    }
   },
   "outputs": [
    {
     "data": {
      "text/plain": [
       "(173912, 21)"
      ]
     },
     "execution_count": 3,
     "metadata": {},
     "output_type": "execute_result"
    }
   ],
   "source": [
    "df.shape"
   ]
  },
  {
   "cell_type": "code",
   "execution_count": 4,
   "id": "a280b264251c9375",
   "metadata": {
    "ExecuteTime": {
     "end_time": "2025-03-24T04:45:11.699278700Z",
     "start_time": "2025-03-24T04:45:11.541670400Z"
    }
   },
   "outputs": [],
   "source": [
    "# 删除包含缺失值的行\n",
    "df = df.dropna(axis=0)"
   ]
  },
  {
   "cell_type": "code",
   "execution_count": 5,
   "id": "f6e50add26929aaf",
   "metadata": {
    "ExecuteTime": {
     "end_time": "2025-03-24T04:45:12.337072100Z",
     "start_time": "2025-03-24T04:45:11.700740300Z"
    }
   },
   "outputs": [],
   "source": [
    "# 特征重新编码\n",
    "from sklearn import preprocessing \n",
    "  \n",
    "label_encoder = preprocessing.LabelEncoder() \n",
    "  \n",
    "list_encode = ['code_module', 'code_presentation', 'assessment_type', 'gender', 'region', 'highest_education', 'age_band','imd_band','disability','final_result']\n",
    "\n",
    "for name in list_encode:\n",
    "    df[name]= label_encoder.fit_transform(df[name]) "
   ]
  },
  {
   "cell_type": "code",
   "execution_count": 6,
   "id": "771859c95130d4f7",
   "metadata": {
    "ExecuteTime": {
     "end_time": "2025-03-24T04:45:12.353448300Z",
     "start_time": "2025-03-24T04:45:12.338066200Z"
    }
   },
   "outputs": [],
   "source": [
    "# 定义映射规则\n",
    "mapping = {\n",
    "    0: 0,\n",
    "    1: 0,\n",
    "    2: 1,\n",
    "    3: 0}\n",
    "\n",
    "# 应用映射\n",
    "df['final_result'] = df['final_result'].map(mapping)\n"
   ]
  },
  {
   "cell_type": "code",
   "execution_count": 7,
   "id": "18064ed2757415fe",
   "metadata": {
    "ExecuteTime": {
     "end_time": "2025-03-24T04:45:12.936127800Z",
     "start_time": "2025-03-24T04:45:12.352447400Z"
    }
   },
   "outputs": [],
   "source": [
    "df.to_csv('oulad_final.csv')"
   ]
  },
  {
   "cell_type": "code",
   "execution_count": 7,
   "id": "aa858c2eb91b39cb",
   "metadata": {
    "ExecuteTime": {
     "end_time": "2025-03-24T04:45:12.944592200Z",
     "start_time": "2025-03-24T04:45:12.937127Z"
    }
   },
   "outputs": [],
   "source": []
  }
 ],
 "metadata": {
  "kernelspec": {
   "display_name": "Python 3 (ipykernel)",
   "language": "python",
   "name": "python3"
  },
  "language_info": {
   "codemirror_mode": {
    "name": "ipython",
    "version": 3
   },
   "file_extension": ".py",
   "mimetype": "text/x-python",
   "name": "python",
   "nbconvert_exporter": "python",
   "pygments_lexer": "ipython3",
   "version": "3.11.0"
  }
 },
 "nbformat": 4,
 "nbformat_minor": 5
}
