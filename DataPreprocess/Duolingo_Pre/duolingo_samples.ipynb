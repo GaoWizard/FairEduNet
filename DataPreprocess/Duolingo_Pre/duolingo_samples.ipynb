{
 "cells": [
  {
   "cell_type": "code",
   "execution_count": 1,
   "id": "aa614fc2",
   "metadata": {},
   "outputs": [],
   "source": [
    "import pandas as pd\n",
    "import numpy as np"
   ]
  },
  {
   "cell_type": "code",
   "execution_count": 2,
   "id": "065d2877",
   "metadata": {},
   "outputs": [],
   "source": [
    "path = 'C:/Code/AIF360 Demo/aif360/data/raw/duolingo/duolingo_all.csv' "
   ]
  },
  {
   "cell_type": "code",
   "execution_count": 3,
   "id": "c5c62c19",
   "metadata": {},
   "outputs": [],
   "source": [
    "data = pd.read_csv(path)"
   ]
  },
  {
   "cell_type": "code",
   "execution_count": 4,
   "id": "7117373e",
   "metadata": {},
   "outputs": [],
   "source": [
    "data = data.head(2000)"
   ]
  },
  {
   "cell_type": "code",
   "execution_count": 5,
   "id": "1e7a9995",
   "metadata": {},
   "outputs": [],
   "source": [
    "data.to_csv('./duolingo_slice.csv')"
   ]
  },
  {
   "cell_type": "code",
   "execution_count": null,
   "id": "d664f8f4",
   "metadata": {},
   "outputs": [],
   "source": []
  }
 ],
 "metadata": {
  "kernelspec": {
   "display_name": "Python 3 (ipykernel)",
   "language": "python",
   "name": "python3"
  },
  "language_info": {
   "codemirror_mode": {
    "name": "ipython",
    "version": 3
   },
   "file_extension": ".py",
   "mimetype": "text/x-python",
   "name": "python",
   "nbconvert_exporter": "python",
   "pygments_lexer": "ipython3",
   "version": "3.11.0"
  }
 },
 "nbformat": 4,
 "nbformat_minor": 5
}
